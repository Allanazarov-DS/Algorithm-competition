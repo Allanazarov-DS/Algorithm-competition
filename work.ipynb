{
 "cells": [
  {
   "cell_type": "code",
   "execution_count": 30,
   "metadata": {},
   "outputs": [
    {
     "name": "stderr",
     "output_type": "stream",
     "text": [
      "C:\\Users\\User\\AppData\\Local\\Temp\\ipykernel_5532\\4030211744.py:13: SettingWithCopyWarning: \n",
      "A value is trying to be set on a copy of a slice from a DataFrame.\n",
      "Try using .loc[row_indexer,col_indexer] = value instead\n",
      "\n",
      "See the caveats in the documentation: https://pandas.pydata.org/pandas-docs/stable/user_guide/indexing.html#returning-a-view-versus-a-copy\n",
      "  df['salary'] = df['salary'].apply(calculate_mean_all_sum)\n"
     ]
    }
   ],
   "source": [
    "import os\n",
    "import pandas as pd\n",
    "from datetime import datetime\n",
    "\n",
    "def filter_users_data(df):\n",
    "    # Status filter\n",
    "    df = df[df['status'].isin(['A2', 'A1', 'B1'])]\n",
    "\n",
    "    # Salary filter\n",
    "    def calculate_mean_all_sum(salary_list):\n",
    "        all_sum_values = [item['all_sum'] for item in salary_list]\n",
    "        return sum(all_sum_values) / len(all_sum_values) if all_sum_values else 0\n",
    "    df['salary'] = df['salary'].apply(calculate_mean_all_sum)\n",
    "    df = df[df['salary'] >= 6000]\n",
    "\n",
    "    # Hobbies filter\n",
    "    def filter_hobbies_list(hobbies_list):\n",
    "        return [hobby for hobby in hobbies_list if 'Playing' not in hobby]\n",
    "    df['hobbies'] = df['hobbies'].apply(filter_hobbies_list)\n",
    "\n",
    "    # Age filter\n",
    "    df['birth_date'] = pd.to_datetime(df['birth_date'])\n",
    "    current_date = pd.to_datetime(datetime.now().date())\n",
    "    df['current_age'] = df['birth_date'].apply(lambda x: (current_date - x).days // 365)\n",
    "    df = df[(df['current_age'] >= 25) & (df['current_age'] <= 30)]\n",
    "\n",
    "    # Workplace count filter\n",
    "    df = df[df['workplace'].apply(len) >= 2]\n",
    "\n",
    "    # Gender filter\n",
    "    df = df[df['gender'] == 'Female']\n",
    "\n",
    "    # Nationality filter\n",
    "    df = df[~df['nationality'].isin(['Poland', 'Sudan'])]\n",
    "\n",
    "    # Main card filter\n",
    "    df = df[df['main_card'].astype(str).str.startswith('35')]\n",
    "\n",
    "    return df\n",
    "\n",
    "# Ikkinchi topshiriq uchun function\n",
    "def save_users_by_nationality_and_age(df, output_dir):\n",
    "    if not os.path.exists(output_dir):\n",
    "        os.makedirs(output_dir)\n",
    "\n",
    "    for nationality in df['nationality'].unique():\n",
    "        nationality_df = df[df['nationality'] == nationality]\n",
    "        nationality_dir = os.path.join(output_dir, nationality)\n",
    "        if not os.path.exists(nationality_dir):\n",
    "            os.makedirs(nationality_dir)\n",
    "\n",
    "        for birth_date in nationality_df['birth_date'].unique():\n",
    "            birth_date_str = birth_date.strftime('%Y-%m-%d')  # Convert datetime to string\n",
    "            age_df = nationality_df[nationality_df['birth_date'] == birth_date]\n",
    "            age_dir = os.path.join(nationality_dir, birth_date_str)\n",
    "            if not os.path.exists(age_dir):\n",
    "                os.makedirs(age_dir)\n",
    "\n",
    "            age_df.to_json(os.path.join(age_dir, f'users_{nationality}_{birth_date_str}.json'), orient='records', lines=True)\n",
    "\n",
    "# Yangi json filelarga joyladim\n",
    "input_path = 'C:/Users/User/Desktop/Algoritmlash/users_data.json'\n",
    "output_dir = 'C:/Users/User/Desktop/Algoritmlash/organized_users'\n",
    "\n",
    "df = pd.read_json(input_path)\n",
    "filtered_df = filter_users_data(df)\n",
    "\n",
    "save_users_by_nationality_and_age(filtered_df, output_dir)\n",
    "# filtered_df # - bu dataframeda 8ta nasiya savdo qilishga yaroqli userlar bor"
   ]
  },
  {
   "cell_type": "code",
   "execution_count": null,
   "metadata": {},
   "outputs": [],
   "source": []
  }
 ],
 "metadata": {
  "kernelspec": {
   "display_name": "Python 3",
   "language": "python",
   "name": "python3"
  },
  "language_info": {
   "codemirror_mode": {
    "name": "ipython",
    "version": 3
   },
   "file_extension": ".py",
   "mimetype": "text/x-python",
   "name": "python",
   "nbconvert_exporter": "python",
   "pygments_lexer": "ipython3",
   "version": "3.12.3"
  }
 },
 "nbformat": 4,
 "nbformat_minor": 2
}
